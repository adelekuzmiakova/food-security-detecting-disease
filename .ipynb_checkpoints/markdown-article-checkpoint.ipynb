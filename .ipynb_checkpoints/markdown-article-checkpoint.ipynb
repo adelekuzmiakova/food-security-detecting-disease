{
 "cells": [
  {
   "cell_type": "markdown",
   "metadata": {},
   "source": [
    "## Project setup\n",
    "\n",
    "Before we get started with any project, it is a good idea to create a [virtual environment](https://www.tensorflow.org/install/pip#2.-create-a-virtual-environment-recommended) to isolate project-specific libraries from the global environment. Python virtual environment stores dependencies required by different projects in separate places by creating virtual environments for them. It solves the “Project X depends on TensorFlow version 1.x but Project Y needs 2.x version” dilemma and keeps your global site-packages directory clean and manageable. Create a new virtual environment by running the following commands:\n",
    "\n",
    "```bash\n",
    "virtualenv -p python3.7 .env        # create a virtual environment (python3.7)\n",
    "source .env/bin/activate            # activate the virtual environment\n",
    "pip3 install -r requirements.txt    # install dependencies\n",
    "deactivate                          # exit the virtual environment \n",
    "\n",
    "```\n",
    "\n",
    "requirements.txt can be found [here](https://github.com/adelekuzmiakova/food-security-detecting-disease/blob/master/requirements.txt).\n",
    "\n",
    "## Image classification\n",
    "\n",
    "Image classification is the core task in computer vision. The goal of an image classification task is to read an image and **assign one label from a fixed set of categories to it**. Despite its simplicity, image classification has many applications in machine learning, web development, or data science. Additionally, many other computer vision problems, such as object detection or semantic segmentation, can be reduced to image classification.\n",
    "\n",
    "This tutorial shows how to classify images of bean plants into 3 categories:\n",
    "\n",
    "1. **Healthy**\n",
    "2. **Angular Leaf Spot disease**\n",
    "3. **Bean Rust disease**\n",
    "\n",
    "![Alt text](assets/3classes.png?raw=true \"3 Classes\")\n",
    "\n",
    "\n",
    "In this tutorial we will follow a standard machine learning workflow:\n",
    "\n",
    "1. Examine the data and build an input pipeline \n",
    "2. Build the classification model\n",
    "3. Train the model\n",
    "4. Test the model, evaluate its performance, and fine-tune hyperparameters\n",
    "\n",
    "\n",
    "We start with importing necessary libraries:\n",
    "\n",
    "```python\n",
    "from __future__ import absolute_import, division, print_function, unicode_literals\n",
    "from collections import Counter\n",
    "import numpy as np\n",
    "import matplotlib.pyplot as plt\n",
    "import tensorflow.compat.v2 as tf\n",
    "import tensorflow_datasets as tfds\n",
    "#tfds.disable_progress_bar()\n",
    "from tensorflow.keras.models import Sequential\n",
    "from tensorflow.keras.layers import Dense, Conv2D, Flatten, Dropout, MaxPooling2D\n",
    "from tensorflow.keras.preprocessing.image import ImageDataGenerator\n",
    "%matplotlib inline\n",
    "```"
   ]
  },
  {
   "cell_type": "code",
   "execution_count": null,
   "metadata": {},
   "outputs": [],
   "source": []
  }
 ],
 "metadata": {
  "kernelspec": {
   "display_name": "Python 3",
   "language": "python",
   "name": "python3"
  },
  "language_info": {
   "codemirror_mode": {
    "name": "ipython",
    "version": 3
   },
   "file_extension": ".py",
   "mimetype": "text/x-python",
   "name": "python",
   "nbconvert_exporter": "python",
   "pygments_lexer": "ipython3",
   "version": "3.7.7"
  }
 },
 "nbformat": 4,
 "nbformat_minor": 4
}
