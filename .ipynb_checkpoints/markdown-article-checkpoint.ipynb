{
 "cells": [
  {
   "cell_type": "markdown",
   "metadata": {},
   "source": [
    "## Project setup\n",
    "\n",
    "Before we get started with any project, it is a good idea to create a [virtual environment](https://www.tensorflow.org/install/pip#2.-create-a-virtual-environment-recommended) to isolate project-specific libraries from the global environment. Python virtual environment stores dependencies required by different projects in separate places by creating virtual environments for them. It solves the “Project X depends on TensorFlow version 1.x but Project Y needs 2.x version” dilemma and keeps your global site-packages directory clean and manageable. Create a new virtual environment by running the following commands:\n",
    "\n",
    "```bash\n",
    "virtualenv -p python3.7 .env        # create a virtual environment (python3.7)\n",
    "source .env/bin/activate            # activate the virtual environment\n",
    "pip3 install -r requirements.txt    # install dependencies\n",
    "deactivate                          # exit the virtual environment \n",
    "\n",
    "```\n",
    "\n",
    "requirements.txt can be found [here](https://github.com/adelekuzmiakova/food-security-detecting-disease/blob/master/requirements.txt).\n",
    "\n",
    "## Image classification\n",
    "\n",
    "Image classification is the core task in computer vision. The goal of an image classification task is to read an image and **assign one label from a fixed set of categories to it**. Despite its simplicity, image classification has many applications in machine learning, web development, or data science. Additionally, many other computer vision problems, such as object detection or semantic segmentation, can be reduced to image classification.\n",
    "\n",
    "This tutorial shows how to classify images of bean plants into 3 categories:\n",
    "\n",
    "1. **Healthy**\n",
    "2. **Angular Leaf Spot disease**\n",
    "3. **Bean Rust disease**\n",
    "\n",
    "![Alt text](assets/3classes.png?raw=true \"3 Classes\")\n",
    "\n",
    "\n",
    "In this tutorial we will follow a standard machine learning workflow:\n",
    "\n",
    "1. Examine the data and build an input pipeline \n",
    "2. Build the classification model\n",
    "3. Train the model\n",
    "4. Test the model, evaluate its performance, and fine-tune hyperparameters\n",
    "\n",
    "\n",
    "We start with importing necessary libraries:\n",
    "\n",
    "```python\n",
    "from __future__ import absolute_import, division, print_function, unicode_literals\n",
    "from collections import Counter\n",
    "import numpy as np\n",
    "import matplotlib.pyplot as plt\n",
    "import tensorflow.compat.v2 as tf\n",
    "import tensorflow_datasets as tfds\n",
    "#tfds.disable_progress_bar()\n",
    "from tensorflow.keras.models import Sequential\n",
    "from tensorflow.keras.layers import Dense, Conv2D, Flatten, Dropout, MaxPooling2D\n",
    "from tensorflow.keras.preprocessing.image import ImageDataGenerator\n",
    "%matplotlib inline\n",
    "```\n",
    "\n",
    "### Step 1: Examine the data and build an input pipeline\n",
    "\n",
    "`TFDS` module provides a collection of ready-to-use datasets. In this example, we will be working with `beans` [dataset](https://github.com/AI-Lab-Makerere/ibean), where each image contains bean plants grown on small farms in East Africa. Beans are a staple in many East African cousines and represent a significant source of protein for school-aged children. \n",
    "Our goal is to help diagnose the health condition of bean crops and **develop a classifier that can predict whether the bean leaves have been affected by a disease or not**. Every image in this dataset is 500-by-500 pixels large and was taken by a smartphone camera on the farm. Also, every image is associated with exactly one condition (healthy, angular leaf spot disease, or bean rust disease). The training, validation, and test sets contain 1034, 133 and 128 images, respectively. \n",
    "\n",
    "Also, you can see a list of all datasets registered on TensorFlow [here](https://www.tensorflow.org/datasets/catalog/overview) or by using `tfds.list_builders()` method."
   ]
  },
  {
   "cell_type": "code",
   "execution_count": null,
   "metadata": {},
   "outputs": [],
   "source": []
  }
 ],
 "metadata": {
  "kernelspec": {
   "display_name": "Python 3",
   "language": "python",
   "name": "python3"
  },
  "language_info": {
   "codemirror_mode": {
    "name": "ipython",
    "version": 3
   },
   "file_extension": ".py",
   "mimetype": "text/x-python",
   "name": "python",
   "nbconvert_exporter": "python",
   "pygments_lexer": "ipython3",
   "version": "3.7.7"
  }
 },
 "nbformat": 4,
 "nbformat_minor": 4
}
